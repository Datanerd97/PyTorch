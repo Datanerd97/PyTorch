{
  "nbformat": 4,
  "nbformat_minor": 0,
  "metadata": {
    "colab": {
      "name": "00_pytorch_fundamentals_exercises.ipynb",
      "provenance": []
    },
    "kernelspec": {
      "name": "python3",
      "display_name": "Python 3"
    },
    "language_info": {
      "name": "python"
    }
  },
  "cells": [
    {
      "cell_type": "markdown",
      "source": [
        "# 00. PyTorch Fundamentals Exercises\n",
        "\n",
        "### 1. Documentation reading\n",
        "\n",
        "A big part of deep learning (and learning to code in general) is getting familiar with the documentation of a certain framework you're using. We'll be using the PyTorch documentation a lot throughout the rest of this course. So I'd recommend spending 10-minutes reading the following (it's okay if you don't get some things for now, the focus is not yet full understanding, it's awareness):\n",
        "  * The documentation on [`torch.Tensor`](https://pytorch.org/docs/stable/tensors.html#torch-tensor).\n",
        "  * The documentation on [`torch.cuda`](https://pytorch.org/docs/master/notes/cuda.html#cuda-semantics).\n",
        "\n"
      ],
      "metadata": {
        "id": "AzDBM_v4iMe7"
      }
    },
    {
      "cell_type": "code",
      "source": [
        "# No code solution (reading) Familarizing my self to Pytorch"
      ],
      "metadata": {
        "id": "bGD0oD8Kizak"
      },
      "execution_count": 1,
      "outputs": []
    },
    {
      "cell_type": "markdown",
      "source": [
        "##### Practicing Documentation Code\n",
        "\n",
        "Here I am going to briefly practice doc coding from documentation on torch.Tensor"
      ],
      "metadata": {
        "id": "HSU7QYKUkSXg"
      }
    },
    {
      "cell_type": "code",
      "source": [
        "# Practicing documentation code\n",
        "import torch\n",
        "torch.zeros([2,4],dtype = torch.int32)\n",
        "\n",
        "# cuda0 = torch.device('cuda:0')\n",
        "# torch.ones([2,4],dtype = torch.float64,device = cuda0)\n",
        "\n"
      ],
      "metadata": {
        "colab": {
          "base_uri": "https://localhost:8080/"
        },
        "id": "_VPa3Q1LkGvt",
        "outputId": "2619f481-0786-408b-d032-1a978e259d88"
      },
      "execution_count": 2,
      "outputs": [
        {
          "output_type": "execute_result",
          "data": {
            "text/plain": [
              "tensor([[0, 0, 0, 0],\n",
              "        [0, 0, 0, 0]], dtype=torch.int32)"
            ]
          },
          "metadata": {},
          "execution_count": 2
        }
      ]
    },
    {
      "cell_type": "code",
      "source": [
        "# Contents of a tensor can be accessed and modified using Python's indexing and slicing notation\n",
        "x = torch.tensor([[1,2,3],[4,5,6]])\n",
        "print(x[1][2])"
      ],
      "metadata": {
        "colab": {
          "base_uri": "https://localhost:8080/"
        },
        "id": "6TQF1jhjkqWn",
        "outputId": "777e65c1-9df0-4021-b7c6-2fda3060a610"
      },
      "execution_count": 3,
      "outputs": [
        {
          "output_type": "stream",
          "name": "stdout",
          "text": [
            "tensor(6)\n"
          ]
        }
      ]
    },
    {
      "cell_type": "code",
      "source": [
        "x[0][1] = 8\n",
        "print(x)"
      ],
      "metadata": {
        "colab": {
          "base_uri": "https://localhost:8080/"
        },
        "id": "Zl-6ahjJk-zu",
        "outputId": "5e78e5bf-9ad6-454c-8796-23f3915b34a1"
      },
      "execution_count": 4,
      "outputs": [
        {
          "output_type": "stream",
          "name": "stdout",
          "text": [
            "tensor([[1, 8, 3],\n",
            "        [4, 5, 6]])\n"
          ]
        }
      ]
    },
    {
      "cell_type": "code",
      "source": [
        "x = torch.tensor([[1]])\n",
        "x"
      ],
      "metadata": {
        "colab": {
          "base_uri": "https://localhost:8080/"
        },
        "id": "1fEngeAMm9ql",
        "outputId": "28da8dca-b73b-49dd-b601-d791c3c2821b"
      },
      "execution_count": 5,
      "outputs": [
        {
          "output_type": "execute_result",
          "data": {
            "text/plain": [
              "tensor([[1]])"
            ]
          },
          "metadata": {},
          "execution_count": 5
        }
      ]
    },
    {
      "cell_type": "code",
      "source": [
        "x = torch.tensor(2.5)\n",
        "x"
      ],
      "metadata": {
        "colab": {
          "base_uri": "https://localhost:8080/"
        },
        "id": "-jxXxnWTnIbK",
        "outputId": "6aaef82a-5981-4a8c-e86e-b59291958acd"
      },
      "execution_count": 6,
      "outputs": [
        {
          "output_type": "execute_result",
          "data": {
            "text/plain": [
              "tensor(2.5000)"
            ]
          },
          "metadata": {},
          "execution_count": 6
        }
      ]
    },
    {
      "cell_type": "code",
      "source": [
        "# We use item to get a pyton number from a tensor containing a single value\n",
        "x.item()"
      ],
      "metadata": {
        "colab": {
          "base_uri": "https://localhost:8080/"
        },
        "id": "ulM80XdvnMtd",
        "outputId": "1f2f81a0-abcb-4048-9fc0-bfd515ff658e"
      },
      "execution_count": 7,
      "outputs": [
        {
          "output_type": "execute_result",
          "data": {
            "text/plain": [
              "2.5"
            ]
          },
          "metadata": {},
          "execution_count": 7
        }
      ]
    },
    {
      "cell_type": "code",
      "source": [
        "x = torch.tensor([[1., -1.], [1., 1.]], requires_grad=True)\n",
        "out = x.pow(2).sum()\n",
        "out.backward()\n",
        "x.grad"
      ],
      "metadata": {
        "colab": {
          "base_uri": "https://localhost:8080/"
        },
        "id": "n6b8IafvndEF",
        "outputId": "d8f0a3ec-a439-4bae-c816-3e156ac41601"
      },
      "execution_count": 8,
      "outputs": [
        {
          "output_type": "execute_result",
          "data": {
            "text/plain": [
              "tensor([[ 2., -2.],\n",
              "        [ 2.,  2.]])"
            ]
          },
          "metadata": {},
          "execution_count": 8
        }
      ]
    },
    {
      "cell_type": "code",
      "source": [
        "a = torch.randn(4)\n",
        "\n",
        "torch.add(a,20)"
      ],
      "metadata": {
        "colab": {
          "base_uri": "https://localhost:8080/"
        },
        "id": "SycGIXJ5pD5V",
        "outputId": "8e63fb57-2f2f-4037-d672-df0eb7c5c370"
      },
      "execution_count": 9,
      "outputs": [
        {
          "output_type": "execute_result",
          "data": {
            "text/plain": [
              "tensor([20.1514, 20.1320, 19.6723, 19.6819])"
            ]
          },
          "metadata": {},
          "execution_count": 9
        }
      ]
    },
    {
      "cell_type": "code",
      "source": [
        "b = torch.randn(4)\n",
        "c = torch.randn(4,1)\n",
        "c"
      ],
      "metadata": {
        "colab": {
          "base_uri": "https://localhost:8080/"
        },
        "id": "Gb9yRsETpK-8",
        "outputId": "2eba1280-494f-461e-fbcf-ec7d93a96aeb"
      },
      "execution_count": 10,
      "outputs": [
        {
          "output_type": "execute_result",
          "data": {
            "text/plain": [
              "tensor([[-0.8567],\n",
              "        [ 1.1518],\n",
              "        [ 0.6752],\n",
              "        [-1.5781]])"
            ]
          },
          "metadata": {},
          "execution_count": 10
        }
      ]
    },
    {
      "cell_type": "code",
      "source": [
        "torch.add(b,c,alpha = 10)"
      ],
      "metadata": {
        "colab": {
          "base_uri": "https://localhost:8080/"
        },
        "id": "qi9gjjuLpNe0",
        "outputId": "05792b2b-8af9-4cc3-d2e3-3b23e0de139d"
      },
      "execution_count": 11,
      "outputs": [
        {
          "output_type": "execute_result",
          "data": {
            "text/plain": [
              "tensor([[ -8.5254,  -9.5826,  -9.6658,  -9.0749],\n",
              "        [ 11.5593,  10.5022,  10.4190,  11.0099],\n",
              "        [  6.7931,   5.7360,   5.6528,   6.2437],\n",
              "        [-15.7395, -16.7966, -16.8798, -16.2889]])"
            ]
          },
          "metadata": {},
          "execution_count": 11
        }
      ]
    },
    {
      "cell_type": "code",
      "source": [
        "# Okay so the output is a - (b * alpha) to get the answer why?\n",
        "# So the alpha parameter is optional got it perhaps it is a scalar.\n",
        "a = torch.tensor((1, 2))\n",
        "b = torch.tensor((0, 1))\n",
        "torch.sub(a, b,alpha = 1)"
      ],
      "metadata": {
        "colab": {
          "base_uri": "https://localhost:8080/"
        },
        "id": "eVHiDlxUrKw8",
        "outputId": "9c59cdd6-a1b6-477e-eeea-788ba447a664"
      },
      "execution_count": 12,
      "outputs": [
        {
          "output_type": "execute_result",
          "data": {
            "text/plain": [
              "tensor([1, 1])"
            ]
          },
          "metadata": {},
          "execution_count": 12
        }
      ]
    },
    {
      "cell_type": "markdown",
      "source": [
        "### 2. Create a random tensor with shape `(7, 7)`.\n"
      ],
      "metadata": {
        "id": "__iXqqz-ioUJ"
      }
    },
    {
      "cell_type": "code",
      "source": [
        "# Here we create a random tensor with shape 7.7"
      ],
      "metadata": {
        "id": "JSzuBaAmk94n"
      },
      "execution_count": 13,
      "outputs": []
    },
    {
      "cell_type": "code",
      "source": [
        "# Import torch\n",
        "import torch\n",
        "\n",
        "# Create random tensor\n",
        "x = torch.rand(7,7)\n",
        "x"
      ],
      "metadata": {
        "id": "6pUq9Dc8i2L7",
        "colab": {
          "base_uri": "https://localhost:8080/"
        },
        "outputId": "605e0fc8-423f-4951-b24a-8806e95b4956"
      },
      "execution_count": 14,
      "outputs": [
        {
          "output_type": "execute_result",
          "data": {
            "text/plain": [
              "tensor([[0.7895, 0.4081, 0.0841, 0.1076, 0.8212, 0.1510, 0.2483],\n",
              "        [0.4827, 0.3308, 0.3287, 0.1493, 0.2698, 0.3783, 0.1702],\n",
              "        [0.5499, 0.8624, 0.6513, 0.8026, 0.8564, 0.8359, 0.4027],\n",
              "        [0.6124, 0.2463, 0.6451, 0.0473, 0.9293, 0.9593, 0.9717],\n",
              "        [0.4578, 0.4637, 0.5485, 0.1013, 0.7583, 0.6894, 0.5559],\n",
              "        [0.0344, 0.9488, 0.1178, 0.9435, 0.2102, 0.1978, 0.2115],\n",
              "        [0.4598, 0.5755, 0.8236, 0.2314, 0.2055, 0.3413, 0.2852]])"
            ]
          },
          "metadata": {},
          "execution_count": 14
        }
      ]
    },
    {
      "cell_type": "markdown",
      "source": [
        "### 3. Perform a matrix multiplication on the tensor from 2 with another random tensor with shape `(1, 7)` (hint: you may have to transpose the second tensor)."
      ],
      "metadata": {
        "id": "9-XxvRLfiqkR"
      }
    },
    {
      "cell_type": "code",
      "source": [
        "# Create another random tensor\n",
        "b = torch.rand(1,7)\n",
        "\n",
        "# Perform matrix multiplication, use the matmul arguement not mul argument\n",
        "product = torch.matmul(x,b.T)\n",
        "\n",
        "# Performed Transpose on B so we can matrix multiply we have to align the inner dimensions in\n",
        "# order for it to work\n",
        "product, b.T.shape"
      ],
      "metadata": {
        "id": "NcLqR0Sbi_vT",
        "colab": {
          "base_uri": "https://localhost:8080/"
        },
        "outputId": "266e5757-edb9-485c-b05b-e6988a7531d6"
      },
      "execution_count": 15,
      "outputs": [
        {
          "output_type": "execute_result",
          "data": {
            "text/plain": [
              "(tensor([[1.8929],\n",
              "         [1.4993],\n",
              "         [3.5258],\n",
              "         [2.7250],\n",
              "         [2.3187],\n",
              "         [2.1216],\n",
              "         [1.9445]]),\n",
              " torch.Size([7, 1]))"
            ]
          },
          "metadata": {},
          "execution_count": 15
        }
      ]
    },
    {
      "cell_type": "markdown",
      "source": [
        "### 4. Set the random seed to `0` and do 2 & 3 over again.\n",
        "\n",
        "The output should be:\n",
        "```\n",
        "(tensor([[1.8542],\n",
        "         [1.9611],\n",
        "         [2.2884],\n",
        "         [3.0481],\n",
        "         [1.7067],\n",
        "         [2.5290],\n",
        "         [1.7989]]), torch.Size([7, 1]))\n",
        "```"
      ],
      "metadata": {
        "id": "eiutdKUFiryU"
      }
    },
    {
      "cell_type": "code",
      "source": [
        "# Set manual seed\n",
        "seed = 42\n",
        "torch.manual_seed(seed)\n",
        "\n",
        "# Create two random tensors\n",
        "random_tensor_a = torch.rand(2,2)\n",
        "random_tensor_b = torch.rand(2,2)\n",
        "\n",
        "# Matrix multiply tensors\n",
        "product2 = torch.matmul(random_tensor_a,random_tensor_b)\n",
        "product2"
      ],
      "metadata": {
        "id": "D-lOWI_1jRMm",
        "colab": {
          "base_uri": "https://localhost:8080/"
        },
        "outputId": "d7ec755f-2044-4be0-dffe-815d6e0e2678"
      },
      "execution_count": 16,
      "outputs": [
        {
          "output_type": "execute_result",
          "data": {
            "text/plain": [
              "tensor([[0.5792, 1.2563],\n",
              "        [0.3956, 0.9914]])"
            ]
          },
          "metadata": {},
          "execution_count": 16
        }
      ]
    },
    {
      "cell_type": "markdown",
      "source": [
        "### 5. Speaking of random seeds, we saw how to set it with `torch.manual_seed()` but is there a GPU equivalent? (hint: you'll need to look into the documentation for `torch.cuda` for this one)\n",
        "  * If there is, set the GPU random seed to `1234`."
      ],
      "metadata": {
        "id": "ezY6ks9Cis37"
      }
    },
    {
      "cell_type": "code",
      "source": [
        "# Set random seed on the GPU so GPU equivalent is torch.cuda.manual_seed(1234)\n",
        "torch.cuda.manual_seed(1234)"
      ],
      "metadata": {
        "id": "_LKWcfSTjp00"
      },
      "execution_count": 17,
      "outputs": []
    },
    {
      "cell_type": "markdown",
      "source": [
        "\n",
        "### 6. Create two random tensors of shape `(2, 3)` and send them both to the GPU (you'll need access to a GPU for this). Set `torch.manual_seed(1234)` when creating the tensors (this doesn't have to be the GPU random seed). The output should be something like:\n",
        "\n",
        "```\n",
        "Device: cuda\n",
        "(tensor([[0.0290, 0.4019, 0.2598],\n",
        "         [0.3666, 0.0583, 0.7006]], device='cuda:0'),\n",
        " tensor([[0.0518, 0.4681, 0.6738],\n",
        "         [0.3315, 0.7837, 0.5631]], device='cuda:0'))\n",
        "```"
      ],
      "metadata": {
        "id": "Ir9qSaj6it4n"
      }
    },
    {
      "cell_type": "code",
      "source": [
        "# Set random seed\n",
        "torch.cuda.manual_seed(42)\n",
        "\n",
        "# Check for access to GPU set runtime to t4 GPU\n",
        "device = \"cuda\" if torch.cuda.is_available else \"cpu\"\n",
        "device\n",
        "# Create two random tensors on GPU\n",
        "tensor_a_gpu = torch.rand(2,3,device = device)\n",
        "tensor_b_gpu = torch.rand(2,3,device = device)\n",
        "\n",
        "print(tensor_a_gpu),print(tensor_b_gpu)"
      ],
      "metadata": {
        "id": "azXExiFZj5nm",
        "colab": {
          "base_uri": "https://localhost:8080/"
        },
        "outputId": "2ffe1424-c3f5-4342-9d73-b07b8e3178da"
      },
      "execution_count": 29,
      "outputs": [
        {
          "output_type": "stream",
          "name": "stdout",
          "text": [
            "tensor([[0.6130, 0.0101, 0.3984],\n",
            "        [0.0403, 0.1563, 0.4825]], device='cuda:0')\n",
            "tensor([[0.9877, 0.1289, 0.5621],\n",
            "        [0.5221, 0.7445, 0.5955]], device='cuda:0')\n"
          ]
        },
        {
          "output_type": "execute_result",
          "data": {
            "text/plain": [
              "(None, None)"
            ]
          },
          "metadata": {},
          "execution_count": 29
        }
      ]
    },
    {
      "cell_type": "markdown",
      "source": [
        "\n",
        "### 7. Perform a matrix multiplication on the tensors you created in 6 (again, you may have to adjust the shapes of one of the tensors).\n",
        "\n",
        "The output should look like:\n",
        "```\n",
        "(tensor([[0.3647, 0.4709],\n",
        "         [0.5184, 0.5617]], device='cuda:0'), torch.Size([2, 2]))\n",
        "```"
      ],
      "metadata": {
        "id": "5TlAxeiSiu1y"
      }
    },
    {
      "cell_type": "code",
      "source": [
        "# Perform matmul on tensor_A and tensor_B\n",
        "product_gpu = torch.matmul(tensor_a_gpu,tensor_b_gpu.T)\n",
        "print(product_gpu)"
      ],
      "metadata": {
        "id": "fAeG7ox0lHEO",
        "colab": {
          "base_uri": "https://localhost:8080/"
        },
        "outputId": "20baa118-fabe-4ef7-92b5-1e0c37d52145"
      },
      "execution_count": 31,
      "outputs": [
        {
          "output_type": "stream",
          "name": "stdout",
          "text": [
            "tensor([[0.8307, 0.5648],\n",
            "        [0.3312, 0.4247]], device='cuda:0')\n"
          ]
        }
      ]
    },
    {
      "cell_type": "markdown",
      "source": [
        "### 8. Find the maximum and minimum values of the output of 7."
      ],
      "metadata": {
        "id": "G7qfa5CSivwg"
      }
    },
    {
      "cell_type": "code",
      "source": [
        "# Find max\n",
        "torch.max(product_gpu)\n",
        "# Find min\n",
        "torch.min(product_gpu)\n",
        "\n",
        "print(torch.max(product_gpu)),print(torch.min(product_gpu))"
      ],
      "metadata": {
        "id": "Fu8_3mZpllOd",
        "colab": {
          "base_uri": "https://localhost:8080/"
        },
        "outputId": "bf87816f-a12d-4a20-b0b2-94f653025a90"
      },
      "execution_count": 38,
      "outputs": [
        {
          "output_type": "stream",
          "name": "stdout",
          "text": [
            "tensor(0.8307, device='cuda:0')\n",
            "tensor(0.3312, device='cuda:0')\n"
          ]
        },
        {
          "output_type": "execute_result",
          "data": {
            "text/plain": [
              "(None, None)"
            ]
          },
          "metadata": {},
          "execution_count": 38
        }
      ]
    },
    {
      "cell_type": "markdown",
      "source": [
        "### 9. Find the maximum and minimum index values of the output of 7."
      ],
      "metadata": {
        "id": "wrTj5FgNiw47"
      }
    },
    {
      "cell_type": "markdown",
      "source": [
        "Argmin gives the maximum index value while argmin gives the minimum index value"
      ],
      "metadata": {
        "id": "V4MuUv0DyAu5"
      }
    },
    {
      "cell_type": "code",
      "source": [
        "# Find arg max\n",
        "torch.argmax(product_gpu)\n",
        "\n",
        "# Find arg min\n",
        "torch.argmin(product_gpu)\n",
        "\n",
        "print(torch.argmax(product_gpu)), print(torch.argmin(product_gpu))"
      ],
      "metadata": {
        "id": "CCEKt4K2lsfQ",
        "colab": {
          "base_uri": "https://localhost:8080/"
        },
        "outputId": "5efe2741-c9f4-4173-d961-86cbf2814811"
      },
      "execution_count": 40,
      "outputs": [
        {
          "output_type": "stream",
          "name": "stdout",
          "text": [
            "tensor(0, device='cuda:0')\n",
            "tensor(2, device='cuda:0')\n"
          ]
        },
        {
          "output_type": "execute_result",
          "data": {
            "text/plain": [
              "(None, None)"
            ]
          },
          "metadata": {},
          "execution_count": 40
        }
      ]
    },
    {
      "cell_type": "markdown",
      "source": [
        "\n",
        "### 10. Make a random tensor with shape `(1, 1, 1, 10)` and then create a new tensor with all the `1` dimensions removed to be left with a tensor of shape `(10)`. Set the seed to `7` when you create it and print out the first tensor and it's shape as well as the second tensor and it's shape.\n",
        "\n",
        "The output should look like:\n",
        "\n",
        "```\n",
        "tensor([[[[0.5349, 0.1988, 0.6592, 0.6569, 0.2328, 0.4251, 0.2071, 0.6297,\n",
        "           0.3653, 0.8513]]]]) torch.Size([1, 1, 1, 10])\n",
        "tensor([0.5349, 0.1988, 0.6592, 0.6569, 0.2328, 0.4251, 0.2071, 0.6297, 0.3653,\n",
        "        0.8513]) torch.Size([10])\n",
        "```"
      ],
      "metadata": {
        "id": "hmeybz4uixy7"
      }
    },
    {
      "cell_type": "code",
      "source": [
        "# Set seed\n",
        "torch.manual_seed(7)\n",
        "\n",
        "# Create random tensor\n",
        "random_tensor_c = torch.rand(1,1,1,10)\n",
        "\n",
        "# Remove single dimensions\n",
        "y = torch.squeeze(random_tensor_c)\n",
        "\n",
        "# Print out tensors and their shapes\n",
        "print(random_tensor_c), print(random_tensor_c.shape), print(y),print(y.shape)"
      ],
      "metadata": {
        "id": "TQ9zbRzVl1jV",
        "colab": {
          "base_uri": "https://localhost:8080/"
        },
        "outputId": "332802b8-20af-4839-cd6f-c2974830b04e"
      },
      "execution_count": 44,
      "outputs": [
        {
          "output_type": "stream",
          "name": "stdout",
          "text": [
            "tensor([[[[0.5349, 0.1988, 0.6592, 0.6569, 0.2328, 0.4251, 0.2071, 0.6297,\n",
            "           0.3653, 0.8513]]]])\n",
            "torch.Size([1, 1, 1, 10])\n",
            "tensor([0.5349, 0.1988, 0.6592, 0.6569, 0.2328, 0.4251, 0.2071, 0.6297, 0.3653,\n",
            "        0.8513])\n",
            "torch.Size([10])\n"
          ]
        },
        {
          "output_type": "execute_result",
          "data": {
            "text/plain": [
              "(None, None, None, None)"
            ]
          },
          "metadata": {},
          "execution_count": 44
        }
      ]
    },
    {
      "cell_type": "code",
      "source": [
        "# Recall that if u want 1 you have to count from o\n",
        "random_tensor_c"
      ],
      "metadata": {
        "colab": {
          "base_uri": "https://localhost:8080/"
        },
        "id": "1B-_4eq0yTuY",
        "outputId": "32c65277-bc03-4180-f065-9ab76b8394d0"
      },
      "execution_count": 42,
      "outputs": [
        {
          "output_type": "execute_result",
          "data": {
            "text/plain": [
              "tensor([[[[0.5349, 0.1988, 0.6592, 0.6569, 0.2328, 0.4251, 0.2071, 0.6297,\n",
              "           0.3653, 0.8513]]]])"
            ]
          },
          "metadata": {},
          "execution_count": 42
        }
      ]
    },
    {
      "cell_type": "code",
      "source": [],
      "metadata": {
        "id": "hW7rzd8SyUpw"
      },
      "execution_count": null,
      "outputs": []
    }
  ]
}