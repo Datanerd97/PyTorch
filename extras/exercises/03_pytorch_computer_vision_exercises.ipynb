{
  "nbformat": 4,
  "nbformat_minor": 0,
  "metadata": {
    "colab": {
      "name": "03_pytorch_computer_vision_exercises.ipynb",
      "provenance": [],
      "include_colab_link": true
    },
    "kernelspec": {
      "name": "python3",
      "display_name": "Python 3"
    },
    "language_info": {
      "name": "python"
    },
    "accelerator": "GPU"
  },
  "cells": [
    {
      "cell_type": "markdown",
      "metadata": {
        "id": "view-in-github",
        "colab_type": "text"
      },
      "source": [
        "<a href=\"https://colab.research.google.com/github/Datanerd97/PyTorch/blob/main/extras/exercises/03_pytorch_computer_vision_exercises.ipynb\" target=\"_parent\"><img src=\"https://colab.research.google.com/assets/colab-badge.svg\" alt=\"Open In Colab\"/></a>"
      ]
    },
    {
      "cell_type": "markdown",
      "source": [
        "# 03. PyTorch Computer Vision Exercises\n",
        "\n",
        "The following is a collection of exercises based on computer vision fundamentals in PyTorch.\n",
        "\n",
        "They're a bunch of fun.\n",
        "\n",
        "You're going to get to write plenty of code!\n",
        "\n",
        "## Resources\n",
        "\n",
        "1. These exercises are based on [notebook 03 of the Learn PyTorch for Deep Learning course](https://www.learnpytorch.io/03_pytorch_computer_vision/).\n",
        "2. See a live [walkthrough of the solutions (errors and all) on YouTube](https://youtu.be/_PibmqpEyhA).\n",
        "  * **Note:** Going through these exercises took me just over 3 hours of solid coding, so you should expect around the same.\n",
        "3. See [other solutions on the course GitHub](https://github.com/mrdbourke/pytorch-deep-learning/tree/main/extras/solutions)."
      ],
      "metadata": {
        "id": "Vex99np2wFVt"
      }
    },
    {
      "cell_type": "code",
      "source": [
        "# Check for GPU\n",
        "!nvidia-smi"
      ],
      "metadata": {
        "colab": {
          "base_uri": "https://localhost:8080/"
        },
        "id": "GaeYzOTLwWh2",
        "outputId": "17dd5453-9639-4b01-aa18-7ddbfd5c3253"
      },
      "execution_count": null,
      "outputs": [
        {
          "output_type": "stream",
          "name": "stdout",
          "text": [
            "Sat Apr 16 03:23:02 2022       \n",
            "+-----------------------------------------------------------------------------+\n",
            "| NVIDIA-SMI 460.32.03    Driver Version: 460.32.03    CUDA Version: 11.2     |\n",
            "|-------------------------------+----------------------+----------------------+\n",
            "| GPU  Name        Persistence-M| Bus-Id        Disp.A | Volatile Uncorr. ECC |\n",
            "| Fan  Temp  Perf  Pwr:Usage/Cap|         Memory-Usage | GPU-Util  Compute M. |\n",
            "|                               |                      |               MIG M. |\n",
            "|===============================+======================+======================|\n",
            "|   0  Tesla P100-PCIE...  Off  | 00000000:00:04.0 Off |                    0 |\n",
            "| N/A   39C    P0    29W / 250W |      0MiB / 16280MiB |      0%      Default |\n",
            "|                               |                      |                  N/A |\n",
            "+-------------------------------+----------------------+----------------------+\n",
            "                                                                               \n",
            "+-----------------------------------------------------------------------------+\n",
            "| Processes:                                                                  |\n",
            "|  GPU   GI   CI        PID   Type   Process name                  GPU Memory |\n",
            "|        ID   ID                                                   Usage      |\n",
            "|=============================================================================|\n",
            "|  No running processes found                                                 |\n",
            "+-----------------------------------------------------------------------------+\n"
          ]
        }
      ]
    },
    {
      "cell_type": "code",
      "source": [
        "# Import torch\n",
        "import torch\n",
        "\n",
        "# Exercises require PyTorch > 1.10.0\n",
        "print(torch.__version__)\n",
        "\n",
        "# TODO: Setup device agnostic code\n"
      ],
      "metadata": {
        "colab": {
          "base_uri": "https://localhost:8080/"
        },
        "id": "DNwZLMbCzJLk",
        "outputId": "f739374c-97ba-4b2c-a6f5-cbeaac611add"
      },
      "execution_count": 1,
      "outputs": [
        {
          "output_type": "stream",
          "name": "stdout",
          "text": [
            "2.6.0+cu124\n"
          ]
        }
      ]
    },
    {
      "cell_type": "markdown",
      "source": [
        "## 1. What are 3 areas in industry where computer vision is currently being used?"
      ],
      "metadata": {
        "id": "FSFX7tc1w-en"
      }
    },
    {
      "cell_type": "markdown",
      "source": [
        "The 3 areas in industry where computer vision is being used... binary classification, multi-class classification and image segmentation.."
      ],
      "metadata": {
        "id": "E50KwzJO5ZfY"
      }
    },
    {
      "cell_type": "markdown",
      "source": [
        "## 2. Search \"what is overfitting in machine learning\" and write down a sentence about what you find."
      ],
      "metadata": {
        "id": "oBK-WI6YxDYa"
      }
    },
    {
      "cell_type": "markdown",
      "source": [
        "Overfitting is when the model learns everything about the training set, including its noise and biases to the point. Where the model struggles to generalize well onto the test set or the validation set."
      ],
      "metadata": {
        "id": "IFl6h1eK5vbB"
      }
    },
    {
      "cell_type": "markdown",
      "source": [
        "## 3. Search \"ways to prevent overfitting in machine learning\", write down 3 of the things you find and a sentence about each.\n",
        "> **Note:** there are lots of these, so don't worry too much about all of them, just pick 3 and start with those."
      ],
      "metadata": {
        "id": "XeYFEqw8xK26"
      }
    },
    {
      "cell_type": "markdown",
      "source": [
        "The 3 things we can do to prevent overfitting is:\n",
        "\n",
        "\n",
        "Gather more training data, Use a different machine learning algorithm, Cross-validate the data properly and or check and tweak it based on the validation set."
      ],
      "metadata": {
        "id": "kPOWFvyV57uX"
      }
    },
    {
      "cell_type": "markdown",
      "source": [
        "## 4. Spend 20-minutes reading and clicking through the [CNN Explainer website](https://poloclub.github.io/cnn-explainer/).\n",
        "\n",
        "* Upload your own example image using the \"upload\" button on the website and see what happens in each layer of a CNN as your image passes through it."
      ],
      "metadata": {
        "id": "DKdEEFEqxM-8"
      }
    },
    {
      "cell_type": "markdown",
      "source": [
        "The premise still stays the same:\n",
        "\n",
        "1. Numerically encode your data\n",
        "2. Feed it into a model\n",
        "3. Make sure the output fits into your problem."
      ],
      "metadata": {
        "id": "0U0Ak6kl_kUd"
      }
    },
    {
      "cell_type": "markdown",
      "source": [
        "This is a really good website it explained everything really well.\n",
        "\n",
        "A CNN Is a type of deep learning algorithm used to recognize patterns in data.\n",
        "\n",
        "\n",
        "CNN has a variety of components such as a:\n",
        "* Tensor which is a n - dimensional matrix\n",
        "* A neuron which is a function that takes input and yields a single output. Where outputs of neurons are represented as activation maps\n",
        "* A layer is the same collection of neurons with the same operations\n",
        "* Kernel weight and biases that are tuned to each nueron during the training phase and allows the classifier to adapt to the problem and dataset provided.\n",
        "\n",
        "\n",
        "* CNN utilize what is called a convolutional layer --> that makes them well-positioned to learn from image or image-like data.\n",
        "\n",
        "--> They are mostly used for image processing,classification,segmentation and object-detection.\n",
        "\n",
        "(These are the foundations of CNN) as they contain the learned kernels (weights) which extract features that distinguish different images from one another.\n",
        "\n",
        "The convolutional neuron performs an elementwise dot-product with a unique kernel and the output of the previous layer's corresponding neuron.\n",
        "\n",
        "The convolutional nueron is the result of all intermediate results summed together with learned bias.\n",
        "\n",
        "In order to produce the output of the convolutional nueron (activation-map) we must perform an elementwise dot-product with the output of the previous layer and the unique kernel learned by the network\n",
        "\n",
        "\n",
        "Some of the hyperparamters are <Padding,Stride,Kernel-Size>\n",
        "\n",
        "\n",
        "There are activation functions to consider such as:\n",
        "\n",
        "Relu - which applies non-linearity into the model which is necessary to produce non-linear boundaries such that the output cannot be written as a linear combination of the inputs\n",
        "\n",
        "- Relu activation function is specifically used as a non-linear function because CCN used to train RELU are faster than their counter parts.\n",
        "\n",
        "\n",
        "Softmax - which makes sure the CNN outputs to 1\n",
        "\n",
        "\n",
        "** Pooling Layers\n",
        "\n",
        "There are many types of pooling layers in CNN architecture **but they have the process of decreasing the spatial extent of the network, which reduces the parameters and the overall computation of the network**"
      ],
      "metadata": {
        "id": "6noSLOSb6NVm"
      }
    },
    {
      "cell_type": "markdown",
      "source": [
        "## 5. Load the [`torchvision.datasets.MNIST()`](https://pytorch.org/vision/stable/generated/torchvision.datasets.MNIST.html#torchvision.datasets.MNIST) train and test datasets."
      ],
      "metadata": {
        "id": "lvf-3pODxXYI"
      }
    },
    {
      "cell_type": "code",
      "source": [
        "# Setup the packages\n",
        "from torchvision import datasets\n",
        "from torchvision import transforms\n",
        "from torchvision.transforms import ToTensor\n",
        "\n",
        "# Setup the training set.\n",
        "training_data = datasets.MNIST(\n",
        "    root = \"data\", # Where do we download the data to\n",
        "    train = True, # Do we want the training set\n",
        "    download = True, # Do we want to download yes or no\n",
        "    transform = ToTensor(),\n",
        "    target_transform = None\n",
        ")"
      ],
      "metadata": {
        "id": "SHjeuN81bHza"
      },
      "execution_count": 7,
      "outputs": []
    },
    {
      "cell_type": "code",
      "source": [
        "# Setup testing data.\n",
        "testing_data = datasets.MNIST(\n",
        "    root = \"data\",\n",
        "    train = False,\n",
        "    download = True,\n",
        "    transform = ToTensor(),\n",
        "    target_transform = None\n",
        ")"
      ],
      "metadata": {
        "id": "ivauWvYhA8_e"
      },
      "execution_count": 8,
      "outputs": []
    },
    {
      "cell_type": "markdown",
      "source": [
        "## 6. Visualize at least 5 different samples of the MNIST training dataset."
      ],
      "metadata": {
        "id": "qxZW-uAbxe_F"
      }
    },
    {
      "cell_type": "code",
      "source": [
        "# Let's take a look at the length of the training and the testing.\n",
        "len(training_data),len(testing_data)"
      ],
      "metadata": {
        "colab": {
          "base_uri": "https://localhost:8080/"
        },
        "id": "E0B0KeALCBPz",
        "outputId": "50c1683c-47a3-4194-a5a2-87a0ed6c10e9"
      },
      "execution_count": 9,
      "outputs": [
        {
          "output_type": "execute_result",
          "data": {
            "text/plain": [
              "(60000, 10000)"
            ]
          },
          "metadata": {},
          "execution_count": 9
        }
      ]
    },
    {
      "cell_type": "code",
      "source": [
        "class_names = training_data.classes\n",
        "\n",
        "class_names"
      ],
      "metadata": {
        "colab": {
          "base_uri": "https://localhost:8080/"
        },
        "id": "tb4xU_8rCwkr",
        "outputId": "6b7ae1e0-1ccb-49b0-b79f-49639a58d6cc"
      },
      "execution_count": 18,
      "outputs": [
        {
          "output_type": "execute_result",
          "data": {
            "text/plain": [
              "['0 - zero',\n",
              " '1 - one',\n",
              " '2 - two',\n",
              " '3 - three',\n",
              " '4 - four',\n",
              " '5 - five',\n",
              " '6 - six',\n",
              " '7 - seven',\n",
              " '8 - eight',\n",
              " '9 - nine']"
            ]
          },
          "metadata": {},
          "execution_count": 18
        }
      ]
    },
    {
      "cell_type": "code",
      "source": [
        "class_to_idx = training_data.class_to_idx\n",
        "class_to_idx"
      ],
      "metadata": {
        "colab": {
          "base_uri": "https://localhost:8080/"
        },
        "id": "iDxdp9AgC4Dz",
        "outputId": "b099021a-340d-4875-88b8-7b83f7c3c58b"
      },
      "execution_count": 19,
      "outputs": [
        {
          "output_type": "execute_result",
          "data": {
            "text/plain": [
              "{'0 - zero': 0,\n",
              " '1 - one': 1,\n",
              " '2 - two': 2,\n",
              " '3 - three': 3,\n",
              " '4 - four': 4,\n",
              " '5 - five': 5,\n",
              " '6 - six': 6,\n",
              " '7 - seven': 7,\n",
              " '8 - eight': 8,\n",
              " '9 - nine': 9}"
            ]
          },
          "metadata": {},
          "execution_count": 19
        }
      ]
    },
    {
      "cell_type": "code",
      "source": [
        "# Visualize atleast 5 different samples of the MNIST training dataset.\n",
        "\n",
        "import matplotlib.pyplot as plt\n",
        "\n",
        "image,label = training_data[0]\n",
        "print(f\"Image shape: {image.shape}\")\n",
        "plt.imshow(image.squeeze())\n",
        "plt.title(label)\n",
        "plt.show()"
      ],
      "metadata": {
        "id": "QVFsYi1PbItE",
        "colab": {
          "base_uri": "https://localhost:8080/",
          "height": 469
        },
        "outputId": "de6496ac-3f6e-4205-eed7-c26587adcc8a"
      },
      "execution_count": 24,
      "outputs": [
        {
          "output_type": "stream",
          "name": "stdout",
          "text": [
            "Image shape: torch.Size([1, 28, 28])\n"
          ]
        },
        {
          "output_type": "display_data",
          "data": {
            "text/plain": [
              "<Figure size 640x480 with 1 Axes>"
            ],
            "image/png": "[encoded data removed]"
          },
          "metadata": {}
        }
      ]
    },
    {
      "cell_type": "code",
      "source": [
        "## Let's make a 5 by 1 grid and plot the different numbers..\n",
        "torch.manual_seed(42)\n",
        "fig = plt.figure(figsize = (5,7))\n",
        "rows,col = 5,1\n",
        "\n",
        "for i in range(1,rows*col+1):\n",
        "  # Use this loop to grab random images, the .item returns the label\n",
        "  random_idx = torch.randint(0,len(training_data),size = [1]).item()\n",
        "  img,label = training_data[random_idx]\n",
        "  fig.add_subplot(rows,col,i)\n",
        "  plt.imshow(img.squeeze())\n",
        "  plt.title(class_names[label])\n",
        "  plt.axis(False)\n",
        "  plt.show()\n"
      ],
      "metadata": {
        "colab": {
          "base_uri": "https://localhost:8080/",
          "height": 1000
        },
        "id": "HIK4rSqkDowq",
        "outputId": "aa52784a-9630-4039-eef7-223f883cbc5e"
      },
      "execution_count": 36,
      "outputs": [
        {
          "output_type": "display_data",
          "data": {
            "text/plain": [
              "<Figure size 500x700 with 1 Axes>"
            ],
            "image/png": "[encoded data removed]"
          },
          "metadata": {}
        },
        {
          "output_type": "display_data",
          "data": {
            "text/plain": [
              "<Figure size 640x480 with 1 Axes>"
            ],
            "image/png": "[encoded data removed]"
          },
          "metadata": {}
        },
        {
          "output_type": "display_data",
          "data": {
            "text/plain": [
              "<Figure size 640x480 with 1 Axes>"
            ],
            "image/png": "[encoded data removed]"
          },
          "metadata": {}
        },
        {
          "output_type": "display_data",
          "data": {
            "text/plain": [
              "<Figure size 640x480 with 1 Axes>"
            ],
            "image/png": "[encoded data removed]"
          },
          "metadata": {}
        },
        {
          "output_type": "display_data",
          "data": {
            "text/plain": [
              "<Figure size 640x480 with 1 Axes>"
            ],
            "image/png": "[encoded data removed]"
          },
          "metadata": {}
        }
      ]
    },
    {
      "cell_type": "markdown",
      "source": [
        "## 7. Turn the MNIST train and test datasets into dataloaders using `torch.utils.data.DataLoader`, set the `batch_size=32`."
      ],
      "metadata": {
        "id": "JAPDzW0wxhi3"
      }
    },
    {
      "cell_type": "markdown",
      "source": [
        "Right now, our dataset is in the form of Pytorch datasets, but we need to convert it into a Python iterable.\n",
        "\n",
        "More specifically, we want to turn our data into batches or mini-batches of 32.\n",
        "\n",
        "Why convert it into batches:\n",
        "1. It is more computationally efficien, as in your computing hardware may not be able to store 60k images all at once in memory. So we train the models in batches of 32 images at a time.\n",
        "A batch size of 32 is very common in Machine-Learning.\n",
        "\n",
        "2. This gives our NN more chances to update its gradient per epochs. (If we look at 32 images at a time, our NN updates its internal states its weights.)"
      ],
      "metadata": {
        "id": "ClqSMPw-HGrJ"
      }
    },
    {
      "cell_type": "code",
      "source": [
        "from torch.utils.data import DataLoader\n",
        "\n",
        "# Setup the batch size hyperparameter\n",
        "BATCH_SIZE = 32\n",
        "\n",
        "# Turn dataset into iterable. (batches)\n",
        "\n",
        "train_dataloader = DataLoader(dataset = training_data,\n",
        "                              batch_size = BATCH_SIZE,\n",
        "                              shuffle = True)\n",
        "\n",
        "\n",
        "test_dataloader = DataLoader(dataset = testing_data,\n",
        "                             batch_size = BATCH_SIZE,\n",
        "                             shuffle = True)"
      ],
      "metadata": {
        "id": "ALA6MPcFbJXQ"
      },
      "execution_count": 37,
      "outputs": []
    },
    {
      "cell_type": "markdown",
      "source": [
        "Remember to use the shuffle argument, because we do not want the NN to remember the order of the data, but the general and individual patterns between classes.\n",
        "Thus we shuffle the data."
      ],
      "metadata": {
        "id": "Py-Ct_P7JW6o"
      }
    },
    {
      "cell_type": "markdown",
      "source": [
        "## 8. Recreate `model_2` used in notebook 03 (the same model from the [CNN Explainer website](https://poloclub.github.io/cnn-explainer/), also known as TinyVGG) capable of fitting on the MNIST dataset."
      ],
      "metadata": {
        "id": "bCCVfXk5xjYS"
      }
    },
    {
      "cell_type": "code",
      "source": [
        "from torch import nn\n",
        "\n",
        "class MNISTModelV2(nn.Module):\n",
        "  def __init__(self,\n",
        "               input_shape: int,\n",
        "               hidden_units: int,\n",
        "               output_shape: int,\n",
        "               ):\n",
        "    super().__init__()\n",
        "    # Sequential allows us to go layer by layer..\n",
        "    self.conv_block_1 = nn.Sequential(\n",
        "        nn.Conv2d(in_channels = input_shape,\n",
        "                   out_channels = hidden_units,\n",
        "                   kernel_size = 3,\n",
        "                   stride = 1,\n",
        "                   padding = 1),\n",
        "        nn.ReLU(),\n",
        "        nn.Conv2d(in_channels = hidden_units,\n",
        "                  out_channels = hidden_units,\n",
        "                  kernel_size = 3,\n",
        "                  stride = 1,\n",
        "                  padding = 1),\n",
        "        nn.ReLU(),\n",
        "        nn.MaxPool2d(kernel_size = 2)\n",
        "    )\n",
        "    self.conv_block_2 = nn.Sequential(\n",
        "       nn.Conv2d(in_channels = hidden_units,\n",
        "                 out_channels = hidden_units,\n",
        "                 kernel_size = 3,\n",
        "                 stride = 1,\n",
        "                 padding = 1),\n",
        "       nn.ReLU(),\n",
        "       nn.Conv2d(in_channels = hidden_units,\n",
        "                 out_channels = hidden_units,\n",
        "                 kernel_size = 3,\n",
        "                 stride = 1,\n",
        "                 padding = 1),\n",
        "       nn.ReLU(),\n",
        "       nn.MaxPool2d(kernel_size = 2),\n",
        "   )\n",
        "    self.classifier = nn.Sequential(\n",
        "        nn.Flatten(),\n",
        "        nn.Linear(in_features = hidden_units * 7 * 7,\n",
        "                  out_features = output_shape)\n",
        "    )\n",
        "\n",
        "  def forward(self,x):\n",
        "    x = self.conv_block_1(x)\n",
        "    x = self.conv_block_2(x)\n",
        "    x = self.conv_block_3(x)\n",
        "\n",
        "    return x\n",
        "\n",
        "\n"
      ],
      "metadata": {
        "id": "5IKNF22XbKYS"
      },
      "execution_count": 40,
      "outputs": []
    },
    {
      "cell_type": "markdown",
      "source": [
        "These two layers we have created are called feature extractors, In other words they are trying to learn the patterns that best represent their data. Then this final layer is going to take those features and classify them into our target classes, whatever our model think best suits those features or whatever our model think those features that it has learned represents in terms of our classes."
      ],
      "metadata": {
        "id": "5VZRYuNROyyX"
      }
    },
    {
      "cell_type": "code",
      "source": [
        "torch.manual_seed(43)\n",
        "model_2 = MNISTModelV2(input_shape = 1,\n",
        "                       hidden_units = 10,\n",
        "                       output_shape = len(class_names))"
      ],
      "metadata": {
        "id": "ynwqYGSWQ0gt"
      },
      "execution_count": 44,
      "outputs": []
    },
    {
      "cell_type": "code",
      "source": [
        "loss_fn = nn.CrossEntropyLoss()\n",
        "optimizer = torch.optim.SGD(params = model_2.parameters(),lr = 0.1)"
      ],
      "metadata": {
        "id": "zgSPolQXRPyt"
      },
      "execution_count": 45,
      "outputs": []
    },
    {
      "cell_type": "markdown",
      "source": [
        "## 9. Train the model you built in exercise 8. for 5 epochs on CPU and GPU and see how long it takes on each."
      ],
      "metadata": {
        "id": "sf_3zUr7xlhy"
      }
    },
    {
      "cell_type": "code",
      "source": [
        "torch.manual_seed(43)\n",
        "model"
      ],
      "metadata": {
        "id": "jSo6vVWFbNLD",
        "colab": {
          "base_uri": "https://localhost:8080/"
        },
        "outputId": "74c85e40-aa35-44ac-818d-882c28a5062c"
      },
      "execution_count": 46,
      "outputs": [
        {
          "output_type": "execute_result",
          "data": {
            "text/plain": [
              "<torch._C.Generator at 0x7f7c74d01a50>"
            ]
          },
          "metadata": {},
          "execution_count": 46
        }
      ]
    },
    {
      "cell_type": "markdown",
      "source": [
        "## 10. Make predictions using your trained model and visualize at least 5 of them comparing the prediciton to the target label."
      ],
      "metadata": {
        "id": "w1CsHhPpxp1w"
      }
    },
    {
      "cell_type": "code",
      "source": [],
      "metadata": {
        "id": "_YGgZvSobNxu"
      },
      "execution_count": null,
      "outputs": []
    },
    {
      "cell_type": "markdown",
      "source": [
        "## 11. Plot a confusion matrix comparing your model's predictions to the truth labels."
      ],
      "metadata": {
        "id": "qQwzqlBWxrpG"
      }
    },
    {
      "cell_type": "code",
      "source": [],
      "metadata": {
        "id": "vSrXiT_AbQ6e"
      },
      "execution_count": null,
      "outputs": []
    },
    {
      "cell_type": "markdown",
      "source": [
        "## 12. Create a random tensor of shape `[1, 3, 64, 64]` and pass it through a `nn.Conv2d()` layer with various hyperparameter settings (these can be any settings you choose), what do you notice if the `kernel_size` parameter goes up and down?"
      ],
      "metadata": {
        "id": "lj6bDhoWxt2y"
      }
    },
    {
      "cell_type": "code",
      "source": [],
      "metadata": {
        "id": "leCTsqtSbR5P"
      },
      "execution_count": null,
      "outputs": []
    },
    {
      "cell_type": "markdown",
      "source": [
        "## 13. Use a model similar to the trained `model_2` from notebook 03 to make predictions on the test [`torchvision.datasets.FashionMNIST`](https://pytorch.org/vision/main/generated/torchvision.datasets.FashionMNIST.html) dataset.\n",
        "* Then plot some predictions where the model was wrong alongside what the label of the image should've been.\n",
        "* After visualing these predictions do you think it's more of a modelling error or a data error?\n",
        "* As in, could the model do better or are the labels of the data too close to each other (e.g. a \"Shirt\" label is too close to \"T-shirt/top\")?"
      ],
      "metadata": {
        "id": "VHS20cNTxwSi"
      }
    },
    {
      "cell_type": "code",
      "source": [],
      "metadata": {
        "id": "78a8LjtdbSZj"
      },
      "execution_count": null,
      "outputs": []
    }
  ]
}