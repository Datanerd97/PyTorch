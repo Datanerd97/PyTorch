{
  "nbformat": 4,
  "nbformat_minor": 0,
  "metadata": {
    "colab": {
      "name": "01_pytorch_workflow_exercises.ipynb",
      "provenance": [],
      "include_colab_link": true
    },
    "kernelspec": {
      "name": "python3",
      "display_name": "Python 3"
    },
    "language_info": {
      "name": "python"
    }
  },
  "cells": [
    {
      "cell_type": "markdown",
      "metadata": {
        "id": "view-in-github",
        "colab_type": "text"
      },
      "source": [
        "<a href=\"https://colab.research.google.com/github/Datanerd97/PyTorch/blob/main/extras/exercises/01_pytorch_workflow_exercises.ipynb\" target=\"_parent\"><img src=\"https://colab.research.google.com/assets/colab-badge.svg\" alt=\"Open In Colab\"/></a>"
      ]
    },
    {
      "cell_type": "markdown",
      "source": [
        "# 01. PyTorch Workflow Exercise Template\n",
        "\n",
        "The following is a template for the PyTorch workflow exercises.\n",
        "\n",
        "It's only starter code and it's your job to fill in the blanks.\n",
        "\n",
        "Because of the flexibility of PyTorch, there may be more than one way to answer the question.\n",
        "\n",
        "Don't worry about trying to be *right* just try writing code that suffices the question.\n",
        "\n",
        "You can see one form of [solutions on GitHub](https://github.com/mrdbourke/pytorch-deep-learning/tree/main/extras/solutions) (but try the exercises below yourself first!)."
      ],
      "metadata": {
        "id": "N8LsPXZti9Sw"
      }
    },
    {
      "cell_type": "code",
      "source": [
        "# Import necessary libraries\n",
        "import torch\n",
        "import matplotlib.pyplot as plt\n",
        "import numpy as np"
      ],
      "metadata": {
        "id": "Glu2fM4dkNlx"
      },
      "execution_count": 205,
      "outputs": []
    },
    {
      "cell_type": "code",
      "source": [
        "# Setup device-agnostic code\n",
        "device = 'cuda' if torch.cuda.is_available() else \"cpu\"\n",
        "\n",
        "device"
      ],
      "metadata": {
        "id": "LqKhXY26m31s",
        "colab": {
          "base_uri": "https://localhost:8080/",
          "height": 35
        },
        "outputId": "26eec13d-579f-4edd-dd0b-660fad2412ee"
      },
      "execution_count": 206,
      "outputs": [
        {
          "output_type": "execute_result",
          "data": {
            "text/plain": [
              "'cpu'"
            ],
            "application/vnd.google.colaboratory.intrinsic+json": {
              "type": "string"
            }
          },
          "metadata": {},
          "execution_count": 206
        }
      ]
    },
    {
      "cell_type": "markdown",
      "source": [
        "## 1. Create a straight line dataset using the linear regression formula (`weight * X + bias`).\n",
        "  * Set `weight=0.3` and `bias=0.9` there should be at least 100 datapoints total.\n",
        "  * Split the data into 80% training, 20% testing.\n",
        "  * Plot the training and testing data so it becomes visual.\n",
        "\n",
        "Your output of the below cell should look something like:\n",
        "```\n",
        "Number of X samples: 100\n",
        "Number of y samples: 100\n",
        "First 10 X & y samples:\n",
        "X: tensor([0.0000, 0.0100, 0.0200, 0.0300, 0.0400, 0.0500, 0.0600, 0.0700, 0.0800,\n",
        "        0.0900])\n",
        "y: tensor([0.9000, 0.9030, 0.9060, 0.9090, 0.9120, 0.9150, 0.9180, 0.9210, 0.9240,\n",
        "        0.9270])\n",
        "```\n",
        "\n",
        "Of course the numbers in `X` and `y` may be different but ideally they're created using the linear regression formula."
      ],
      "metadata": {
        "id": "g7HUhxCxjeBx"
      }
    },
    {
      "cell_type": "code",
      "source": [
        "# Create the data parameters\n",
        "weight = 0.3\n",
        "bias = 0.9\n",
        "start = 0\n",
        "step = 0.01\n",
        "end = 1\n",
        "# Make X and y using linear regression feature\n",
        "X = torch.arange(start,end,step).unsqueeze(dim = 1) # We unsqueeze it for when we do our models..\n",
        "\n",
        "# y is the linear regression output\n",
        "y = weight * X + bias\n",
        "\n",
        "print(f\"Number of X samples: {len(X)}\")\n",
        "print(f\"Number of y samples: {len(y)}\")\n",
        "print(f\"First 10 X & y samples:\\nX: {X[:10]}\\ny: {y[:10]}\")"
      ],
      "metadata": {
        "id": "KbDG5MV7jhvE",
        "colab": {
          "base_uri": "https://localhost:8080/"
        },
        "outputId": "e7e333ca-8463-4e2e-9f28-4a7e31895bf0"
      },
      "execution_count": 207,
      "outputs": [
        {
          "output_type": "stream",
          "name": "stdout",
          "text": [
            "Number of X samples: 100\n",
            "Number of y samples: 100\n",
            "First 10 X & y samples:\n",
            "X: tensor([[0.0000],\n",
            "        [0.0100],\n",
            "        [0.0200],\n",
            "        [0.0300],\n",
            "        [0.0400],\n",
            "        [0.0500],\n",
            "        [0.0600],\n",
            "        [0.0700],\n",
            "        [0.0800],\n",
            "        [0.0900]])\n",
            "y: tensor([[0.9000],\n",
            "        [0.9030],\n",
            "        [0.9060],\n",
            "        [0.9090],\n",
            "        [0.9120],\n",
            "        [0.9150],\n",
            "        [0.9180],\n",
            "        [0.9210],\n",
            "        [0.9240],\n",
            "        [0.9270]])\n"
          ]
        }
      ]
    },
    {
      "cell_type": "code",
      "source": [
        "# Split the data into training and testing\n",
        "train_split = int(0.8 * len(X))\n",
        "X_train,y_train = X[:train_split],y[:train_split]\n",
        "X_test,y_test = X[train_split:],y[train_split:]\n",
        "len(X_train),len(y_train),len(X_test),len(y_test)\n"
      ],
      "metadata": {
        "id": "GlwtT1djkmLw",
        "colab": {
          "base_uri": "https://localhost:8080/"
        },
        "outputId": "cc4d90c1-bad4-45fd-e018-ff258ce3d796"
      },
      "execution_count": 208,
      "outputs": [
        {
          "output_type": "execute_result",
          "data": {
            "text/plain": [
              "(80, 80, 20, 20)"
            ]
          },
          "metadata": {},
          "execution_count": 208
        }
      ]
    },
    {
      "cell_type": "code",
      "source": [
        "# Plot the training and testing data\n",
        "def plot_predictions(train_data = X_train,train_labels = y_train,test_data = X_test,test_labels = y_test,predictions = None):\n",
        "\n",
        "  # Plot the training and testing data\n",
        "  plt.figure(figsize = (10,10))\n",
        "\n",
        "  # Plot the training data\n",
        "\n",
        "  plt.scatter(train_data,train_labels,s = 3.5,color = \"blue\",label = \"Training Data\")\n",
        "\n",
        "  # Plot the test data as well\n",
        "\n",
        "  plt.scatter(test_data,test_labels,s = 3.5,color = \"green\",label = \"Test Data\")\n",
        "\n",
        "\n",
        "  if predictions is not None:\n",
        "    plt.scatter(test_data,predictions,s = 3.5,color = \"red\",label = \"Predictions\")\n",
        "\n",
        "  plt.title('Training and Testing Data')\n",
        "\n",
        "  plt.show()"
      ],
      "metadata": {
        "id": "29iQZFNhlYJ-"
      },
      "execution_count": 209,
      "outputs": []
    },
    {
      "cell_type": "code",
      "source": [
        "plot_predictions()"
      ],
      "metadata": {
        "colab": {
          "base_uri": "https://localhost:8080/",
          "height": 853
        },
        "id": "6eJOx9jlfzyj",
        "outputId": "f413f9b4-eb03-4105-b7ec-2b42e6f940d1"
      },
      "execution_count": 210,
      "outputs": [
        {
          "output_type": "display_data",
          "data": {
            "text/plain": [
              "<Figure size 1000x1000 with 1 Axes>"
            ],
            "image/png": "[encoded data removed]"
          },
          "metadata": {}
        }
      ]
    },
    {
      "cell_type": "markdown",
      "source": [
        "## 2. Build a PyTorch model by subclassing `nn.Module`.\n",
        "  * Inside should be a randomly initialized `nn.Parameter()` with `requires_grad=True`, one for `weights` and one for `bias`.\n",
        "  * Implement the `forward()` method to compute the linear regression function you used to create the dataset in 1.\n",
        "  * Once you've constructed the model, make an instance of it and check its `state_dict()`.\n",
        "  * **Note:** If you'd like to use `nn.Linear()` instead of `nn.Parameter()` you can."
      ],
      "metadata": {
        "id": "ImZoe3v8jif8"
      }
    },
    {
      "cell_type": "code",
      "source": [
        "# Create PyTorch linear regression model by subclassing nn.Module\n",
        "from torch import nn\n",
        "\n",
        "class LinearRegression(nn.Module):\n",
        "  def __init__(self):\n",
        "    super().__init__()\n",
        "\n",
        "    # Initalize The Model Parameters to be used in various computations\n",
        "\n",
        "    # For self.weights we make random inital values and set requires_grad equals True for gradient descent and pytorch loves default value of float32\n",
        "    # Bias we make random inital values for bias\n",
        "\n",
        "    self.weights = nn.Parameter(torch.randn(1,requires_grad=True,dtype = torch.float))\n",
        "\n",
        "    self.bias = nn.Parameter(torch.randn(1,requires_grad = True,dtype = torch.float))\n",
        "\n",
        "    # Forward is what defines the computation required for the model\n",
        "    # We define a forward method where the inside is a tensor and the output is a Tensor\n",
        "  def forward(self,x:torch.Tensor) -> torch.Tensor:\n",
        "    return self.weights * x + self.bias # Return the Linear Regression Model\n",
        "\n",
        "\n",
        "\n"
      ],
      "metadata": {
        "id": "qzd__Y5rjtB8"
      },
      "execution_count": 211,
      "outputs": []
    },
    {
      "cell_type": "markdown",
      "source": [
        "The whole goal of our model is to start with random numbers i.e random parameters (weights, and bias) and to look at the data and update those random numbers to represent the pattern here\n",
        "\n",
        "If it runs correctly will take our weight and our bias and run it through the forward calculation which is the same formula we use to run our data and it will adjust the weight and bias to represent as close as possible the known parameters"
      ],
      "metadata": {
        "id": "7BL-66V7jAWO"
      }
    },
    {
      "cell_type": "code",
      "source": [
        "# Instantiate the model and put it to the target device\n",
        "\n",
        "\n",
        "# Create our first model_0, dont be alarmed everytime you call the cell, it will contain random different values..\n",
        "model_0 = LinearRegression()\n",
        "\n",
        "list(model_0.parameters())\n"
      ],
      "metadata": {
        "id": "5LdcDnmOmyQ2",
        "colab": {
          "base_uri": "https://localhost:8080/"
        },
        "outputId": "182fafff-6f1d-4a92-f964-d499c7ae9836"
      },
      "execution_count": 213,
      "outputs": [
        {
          "output_type": "execute_result",
          "data": {
            "text/plain": [
              "[Parameter containing:\n",
              " tensor([0.8507], requires_grad=True),\n",
              " Parameter containing:\n",
              " tensor([-0.4845], requires_grad=True)]"
            ]
          },
          "metadata": {},
          "execution_count": 213
        }
      ]
    },
    {
      "cell_type": "code",
      "source": [
        "# List named parameters\n",
        "\n",
        "model_0.state_dict()"
      ],
      "metadata": {
        "colab": {
          "base_uri": "https://localhost:8080/"
        },
        "id": "_4YIU1poj0IE",
        "outputId": "a644b212-6a56-4e1a-d527-ae2faba8bd5d"
      },
      "execution_count": 214,
      "outputs": [
        {
          "output_type": "execute_result",
          "data": {
            "text/plain": [
              "OrderedDict([('weights', tensor([0.8507])), ('bias', tensor([-0.4845]))])"
            ]
          },
          "metadata": {},
          "execution_count": 214
        }
      ]
    },
    {
      "cell_type": "markdown",
      "source": [
        "## 3. Create a loss function and optimizer using `nn.L1Loss()` and `torch.optim.SGD(params, lr)` respectively.\n",
        "  * Set the learning rate of the optimizer to be 0.01 and the parameters to optimize should be the model parameters from the model you created in 2.\n",
        "  * Write a training loop to perform the appropriate training steps for 300 epochs.\n",
        "  * The training loop should test the model on the test dataset every 20 epochs."
      ],
      "metadata": {
        "id": "G6nYOrJhjtfu"
      }
    },
    {
      "cell_type": "code",
      "source": [
        "# Create the loss function and optimizer\n",
        "\n",
        "# Set up our loss function\n",
        "loss_fn = nn.L1Loss()\n",
        "\n",
        "# Optimizer\n",
        "optimizer = torch.optim.SGD(model_0.parameters(),lr = 0.01)"
      ],
      "metadata": {
        "id": "ltvoZ-FWjv1j"
      },
      "execution_count": 215,
      "outputs": []
    },
    {
      "cell_type": "code",
      "source": [
        "# Training loop\n",
        "\n",
        "\n",
        "# Train model for 300 epochs\n",
        "epochs = 300\n",
        "\n",
        "# Send data to target device\n",
        "\n",
        "for epoch in range(epochs):\n",
        "  ### Training\n",
        "\n",
        "  # Put model in train mode\n",
        "  model_0.train()  # training mode in PyTorch sets all parameters that requires gradient to use gradients\n",
        "\n",
        "  # 1. Forward pass\n",
        "  y_pred = model_0(X_train)\n",
        "\n",
        "  # 2. Calculate loss\n",
        "  loss = loss_fn(y_pred,y_train)\n",
        "\n",
        "  # 3. Zero gradients\n",
        "  optimizer.zero_grad()\n",
        "\n",
        "  # 4. Backpropagation, perform backpropagation on the loss wrt the parameters of the model\n",
        "  loss.backward()\n",
        "\n",
        "  # 5. Step the optimizer\n",
        "  optimizer.step()\n",
        "\n",
        "  ### Perform testing every 20 epochs\n",
        "  if epoch % 20 == 0:\n",
        "\n",
        "    # Put model in evaluation mode and setup inference context\n",
        "    model_0.eval()\n",
        "      # 1. Forward pass\n",
        "    with torch.inference_mode():\n",
        "      test_pred = model_0(X_test)\n",
        "      # 2. Calculate test loss\n",
        "      test_loss = loss_fn(test_pred,y_test)\n",
        "      # Print out what's happening\n",
        "      print(f\"Epoch: {epoch} | Train loss: {loss:.3f} | Test loss: {test_loss:.3f}\")"
      ],
      "metadata": {
        "id": "xpE83NvNnkdV",
        "colab": {
          "base_uri": "https://localhost:8080/"
        },
        "outputId": "164cfd92-cd88-4287-c962-eaa1cf1459be"
      },
      "execution_count": 217,
      "outputs": [
        {
          "output_type": "stream",
          "name": "stdout",
          "text": [
            "Epoch: 0 | Train loss: 0.116 | Test loss: 0.270\n",
            "Epoch: 20 | Train loss: 0.109 | Test loss: 0.255\n",
            "Epoch: 40 | Train loss: 0.102 | Test loss: 0.240\n",
            "Epoch: 60 | Train loss: 0.096 | Test loss: 0.224\n",
            "Epoch: 80 | Train loss: 0.089 | Test loss: 0.209\n",
            "Epoch: 100 | Train loss: 0.082 | Test loss: 0.193\n",
            "Epoch: 120 | Train loss: 0.075 | Test loss: 0.177\n",
            "Epoch: 140 | Train loss: 0.068 | Test loss: 0.161\n",
            "Epoch: 160 | Train loss: 0.061 | Test loss: 0.144\n",
            "Epoch: 180 | Train loss: 0.055 | Test loss: 0.128\n",
            "Epoch: 200 | Train loss: 0.048 | Test loss: 0.112\n",
            "Epoch: 220 | Train loss: 0.041 | Test loss: 0.096\n",
            "Epoch: 240 | Train loss: 0.034 | Test loss: 0.079\n",
            "Epoch: 260 | Train loss: 0.027 | Test loss: 0.063\n",
            "Epoch: 280 | Train loss: 0.020 | Test loss: 0.047\n"
          ]
        }
      ]
    },
    {
      "cell_type": "markdown",
      "source": [
        "## 4. Make predictions with the trained model on the test data.\n",
        "  * Visualize these predictions against the original training and testing data (**note:** you may need to make sure the predictions are *not* on the GPU if you want to use non-CUDA-enabled libraries such as matplotlib to plot)."
      ],
      "metadata": {
        "id": "x4j4TM18jwa7"
      }
    },
    {
      "cell_type": "code",
      "source": [
        "# Make predictions with the model\n",
        "model_0.eval()\n",
        "\n",
        "with torch.inference_mode():\n",
        "  y_predv1 = model_0(X_test)\n",
        "y_predv1"
      ],
      "metadata": {
        "id": "bbMPK5Qjjyx_",
        "colab": {
          "base_uri": "https://localhost:8080/"
        },
        "outputId": "cb8ec073-f7d8-48ab-f9df-c5ecc97b0240"
      },
      "execution_count": 218,
      "outputs": [
        {
          "output_type": "execute_result",
          "data": {
            "text/plain": [
              "tensor([[1.1654],\n",
              "        [1.1690],\n",
              "        [1.1727],\n",
              "        [1.1764],\n",
              "        [1.1800],\n",
              "        [1.1837],\n",
              "        [1.1874],\n",
              "        [1.1911],\n",
              "        [1.1947],\n",
              "        [1.1984],\n",
              "        [1.2021],\n",
              "        [1.2057],\n",
              "        [1.2094],\n",
              "        [1.2131],\n",
              "        [1.2167],\n",
              "        [1.2204],\n",
              "        [1.2241],\n",
              "        [1.2277],\n",
              "        [1.2314],\n",
              "        [1.2351]])"
            ]
          },
          "metadata": {},
          "execution_count": 218
        }
      ]
    },
    {
      "cell_type": "code",
      "source": [
        "model_0.state_dict()"
      ],
      "metadata": {
        "colab": {
          "base_uri": "https://localhost:8080/"
        },
        "id": "NRQV6X-vslR0",
        "outputId": "a85e9048-09c9-428c-dede-a19963bb1678"
      },
      "execution_count": 219,
      "outputs": [
        {
          "output_type": "execute_result",
          "data": {
            "text/plain": [
              "OrderedDict([('weights', tensor([0.3667])), ('bias', tensor([0.8720]))])"
            ]
          },
          "metadata": {},
          "execution_count": 219
        }
      ]
    },
    {
      "cell_type": "code",
      "source": [
        "# Check the weight and bias\n",
        "weight,bias"
      ],
      "metadata": {
        "colab": {
          "base_uri": "https://localhost:8080/"
        },
        "id": "Rrkmzs2espG-",
        "outputId": "ed82075b-b3eb-4aa5-da05-a656da36a467"
      },
      "execution_count": 220,
      "outputs": [
        {
          "output_type": "execute_result",
          "data": {
            "text/plain": [
              "(0.3, 0.9)"
            ]
          },
          "metadata": {},
          "execution_count": 220
        }
      ]
    },
    {
      "cell_type": "code",
      "source": [
        "# Plot the predictions (these may need to be on a specific device)\n",
        "plot_predictions(predictions = y_predv1)"
      ],
      "metadata": {
        "id": "K3BdmQaDpFo8",
        "colab": {
          "base_uri": "https://localhost:8080/",
          "height": 853
        },
        "outputId": "fa319c04-611f-47f1-bd0d-70c6dc572514"
      },
      "execution_count": 221,
      "outputs": [
        {
          "output_type": "display_data",
          "data": {
            "text/plain": [
              "<Figure size 1000x1000 with 1 Axes>"
            ],
            "image/png": "[encoded data removed]"
          },
          "metadata": {}
        }
      ]
    },
    {
      "cell_type": "markdown",
      "source": [
        "## 5. Save your trained model's `state_dict()` to file.\n",
        "  * Create a new instance of your model class you made in 2. and load in the `state_dict()` you just saved to it.\n",
        "  * Perform predictions on your test data with the loaded model and confirm they match the original model predictions from 4."
      ],
      "metadata": {
        "id": "s2OnlMWKjzX8"
      }
    },
    {
      "cell_type": "code",
      "source": [
        "from pathlib import Path\n",
        "\n",
        "# 1. Create models directory\n",
        "MODEL_PATH = Path(\"models\")\n",
        "\n",
        "MODEL_PATH.mkdir(parents = True,exist_ok=True,)\n",
        "\n",
        "# 2. Create model save path\n",
        "MODEL_NAME = \"01_pytorch.workflow_model_1.pth\"\n",
        "\n",
        "MODEL_SAVE_PATH = MODEL_PATH/MODEL_NAME\n",
        "# 3. Save the model state dict\n",
        "print(f\"Saving model to: {MODEL_SAVE_PATH}\")\n",
        "\n",
        "# Save with torch.save\n",
        "\n",
        "torch.save(obj = model_0.state_dict(),f = MODEL_SAVE_PATH)"
      ],
      "metadata": {
        "id": "hgxhgD14qr-i",
        "colab": {
          "base_uri": "https://localhost:8080/"
        },
        "outputId": "058b11fc-8e38-4303-caf2-215729e45461"
      },
      "execution_count": 222,
      "outputs": [
        {
          "output_type": "stream",
          "name": "stdout",
          "text": [
            "Saving model to: models/01_pytorch.workflow_model_1.pth\n"
          ]
        }
      ]
    },
    {
      "cell_type": "code",
      "source": [
        "model_0.state_dict()"
      ],
      "metadata": {
        "colab": {
          "base_uri": "https://localhost:8080/"
        },
        "id": "sMaXvvNVt79F",
        "outputId": "ea67ff9f-9b19-4cbc-cf94-b89132133c78"
      },
      "execution_count": 223,
      "outputs": [
        {
          "output_type": "execute_result",
          "data": {
            "text/plain": [
              "OrderedDict([('weights', tensor([0.3667])), ('bias', tensor([0.8720]))])"
            ]
          },
          "metadata": {},
          "execution_count": 223
        }
      ]
    },
    {
      "cell_type": "code",
      "source": [
        "# Create new instance of model and load saved state dict (make sure to put it on the target device)\n",
        "\n",
        "# Load New Instance\n",
        "\n",
        "model_1 = LinearRegression()\n",
        "\n",
        "\n",
        "# Load saved state dict\n",
        "\n",
        "model_1.load_state_dict(torch.load(MODEL_SAVE_PATH))\n",
        "\n",
        "# make sure to put it on the target device\n",
        "\n",
        "model_1.to(device)"
      ],
      "metadata": {
        "id": "P9vTgiLRrJ7T",
        "colab": {
          "base_uri": "https://localhost:8080/"
        },
        "outputId": "702226b7-18d8-41d3-fc5a-a3d5d5f5f037"
      },
      "execution_count": 224,
      "outputs": [
        {
          "output_type": "stream",
          "name": "stderr",
          "text": [
            "<ipython-input-224-b0cb63b36444>:10: FutureWarning: You are using `torch.load` with `weights_only=False` (the current default value), which uses the default pickle module implicitly. It is possible to construct malicious pickle data which will execute arbitrary code during unpickling (See https://github.com/pytorch/pytorch/blob/main/SECURITY.md#untrusted-models for more details). In a future release, the default value for `weights_only` will be flipped to `True`. This limits the functions that could be executed during unpickling. Arbitrary objects will no longer be allowed to be loaded via this mode unless they are explicitly allowlisted by the user via `torch.serialization.add_safe_globals`. We recommend you start setting `weights_only=True` for any use case where you don't have full control of the loaded file. Please open an issue on GitHub for any issues related to this experimental feature.\n",
            "  model_1.load_state_dict(torch.load(MODEL_SAVE_PATH))\n"
          ]
        },
        {
          "output_type": "execute_result",
          "data": {
            "text/plain": [
              "LinearRegression()"
            ]
          },
          "metadata": {},
          "execution_count": 224
        }
      ]
    },
    {
      "cell_type": "code",
      "source": [
        "# Make predictions with loaded model and compare them to the previous\n",
        "\n",
        "# Set model_1 to evaluation\n",
        "\n",
        "model_1.eval()\n",
        "with torch.inference_mode():\n",
        "  model_1_loaded_pred = model_1(X_test)"
      ],
      "metadata": {
        "id": "8UGX3VebrVtI"
      },
      "execution_count": 225,
      "outputs": []
    },
    {
      "cell_type": "code",
      "source": [
        "# Nice we see how the predictions work...\n",
        "y_predv1 == model_1_loaded_pred"
      ],
      "metadata": {
        "colab": {
          "base_uri": "https://localhost:8080/"
        },
        "id": "YFp6sOlEwZ9S",
        "outputId": "8360bb63-b6ab-406b-e721-d3c104c6cc60"
      },
      "execution_count": 226,
      "outputs": [
        {
          "output_type": "execute_result",
          "data": {
            "text/plain": [
              "tensor([[True],\n",
              "        [True],\n",
              "        [True],\n",
              "        [True],\n",
              "        [True],\n",
              "        [True],\n",
              "        [True],\n",
              "        [True],\n",
              "        [True],\n",
              "        [True],\n",
              "        [True],\n",
              "        [True],\n",
              "        [True],\n",
              "        [True],\n",
              "        [True],\n",
              "        [True],\n",
              "        [True],\n",
              "        [True],\n",
              "        [True],\n",
              "        [True]])"
            ]
          },
          "metadata": {},
          "execution_count": 226
        }
      ]
    },
    {
      "cell_type": "code",
      "source": [
        "plot_predictions(predictions = model_1_loaded_pred)"
      ],
      "metadata": {
        "colab": {
          "base_uri": "https://localhost:8080/",
          "height": 853
        },
        "id": "ohFKVytrvw_j",
        "outputId": "a93a803e-2936-44a2-f345-dba1700040bc"
      },
      "execution_count": 227,
      "outputs": [
        {
          "output_type": "display_data",
          "data": {
            "text/plain": [
              "<Figure size 1000x1000 with 1 Axes>"
            ],
            "image/png": "[encoded data removed]"
          },
          "metadata": {}
        }
      ]
    },
    {
      "cell_type": "markdown",
      "source": [
        "# Fin"
      ],
      "metadata": {
        "id": "Neh53J9YzbaZ"
      }
    },
    {
      "cell_type": "code",
      "source": [],
      "metadata": {
        "id": "qkxN5E14wNTi"
      },
      "execution_count": null,
      "outputs": []
    }
  ]
}